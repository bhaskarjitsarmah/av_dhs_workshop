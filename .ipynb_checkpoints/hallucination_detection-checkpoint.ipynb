{
 "cells": [
  {
   "cell_type": "markdown",
   "metadata": {},
   "source": [
    "## Loading Environment Variables"
   ]
  },
  {
   "cell_type": "code",
   "execution_count": 1,
   "metadata": {},
   "outputs": [],
   "source": [
    "import os\n",
    "\n",
    "from dotenv import load_dotenv\n",
    "load_dotenv()\n",
    "\n",
    "os.environ[\"LANGCHAIN_TRACING_V2\"] = \"true\"\n",
    "os.environ[\"LANGCHAIN_API_KEY\"] = os.getenv(\"LANGCHAIN_API_KEY\")\n",
    "os.environ[\"OPENAI_API_KEY\"] = os.getenv(\"OPENAI_API_KEY\")\n",
    "os.environ[\"PINECONE_API_KEY\"] = os.getenv(\"PINECONE_API_KEY\")\n",
    "os.environ['LANGCHAIN_PROJECT'] = os.getenv(\"LANGCHAIN_PROJECT\")"
   ]
  },
  {
   "cell_type": "markdown",
   "metadata": {},
   "source": [
    "## Importing Libraries"
   ]
  },
  {
   "cell_type": "code",
   "execution_count": 2,
   "metadata": {},
   "outputs": [],
   "source": [
    "from langchain_core.output_parsers import StrOutputParser\n",
    "from langchain_core.runnables import RunnablePassthrough, RunnableParallel\n",
    "from langchain_core.prompts import ChatPromptTemplate\n",
    "from langchain_openai import OpenAIEmbeddings # To create embeddings\n",
    "from langchain_openai import ChatOpenAI\n",
    "from langchain_pinecone import PineconeVectorStore # To connect with the Vectorstore\n",
    "\n",
    "import helper_hallucination as hc # includes helper functions to compute hallucination score"
   ]
  },
  {
   "cell_type": "markdown",
   "metadata": {},
   "source": [
    "## RAG Pipeline"
   ]
  },
  {
   "cell_type": "code",
   "execution_count": 3,
   "metadata": {},
   "outputs": [],
   "source": [
    "# Defing Constants\n",
    "INDEX_NAME = 'earning-calls'\n",
    "TOP_K = 2\n",
    "QUARTER = \"Q1\"\n",
    "FILENAME = \"Adani Enterprises Ltd.pdf\"\n",
    "YEAR = \"FY24\"\n",
    "\n",
    "# initializing embedding model and generation LLM\n",
    "embeddings = OpenAIEmbeddings(model=\"text-embedding-ada-002\")\n",
    "llm = ChatOpenAI(model=\"gpt-4o-mini\", temperature=0.5)\n",
    "\n",
    "# loading vectorstore index and initializing the retriver\n",
    "index = PineconeVectorStore(index_name=INDEX_NAME, embedding=embeddings) # loading the index\n",
    "retriver = index.as_retriever(search_kwargs={\"filter\": {\"quarter\": QUARTER, \"filename\": FILENAME, \"year\": YEAR}, \"k\": TOP_K})\n",
    "\n",
    "# Defining the ChatPromptTemplate\n",
    "chat_template = ChatPromptTemplate.from_messages(\n",
    "    [\n",
    "        (\"system\", \"You are an expert Q&A system that is trusted around the world.\\nAlways answer the query using the provided context information, and not prior knowledge.\\nSome rules to follow:\\n1. Never directly reference the given context in your answer.\\n2. Avoid statements like 'Based on the context, ...' or 'The context information ...' or anything along those lines.\"),\n",
    "        (\"human\", \"Context information is below.\\n---------------------\\n{context}\\n---------------------\\nGiven the context information and not prior knowledge, answer the query.\\nQuery: {query}\\nAnswer: \"),\n",
    "    ]\n",
    ")\n",
    "\n",
    "# helper function to format context in the prompt\n",
    "def format_docs(docs):\n",
    "    return \"\\n\\n\".join(doc.page_content for doc in docs)\n",
    "\n",
    "# defing the RAG chain\n",
    "rag_chain_from_docs = (\n",
    "    RunnablePassthrough.assign(context=(lambda x: format_docs(x[\"context\"])))\n",
    "    | chat_template\n",
    "    | llm\n",
    "    | StrOutputParser()\n",
    ")\n",
    "\n",
    "# Adding chain to extract the retrived documents as the pipeline output\n",
    "rag_chain_with_source = RunnableParallel(\n",
    "    {\"context\": retriver, \"query\": RunnablePassthrough()}\n",
    ").assign(answer=rag_chain_from_docs)"
   ]
  },
  {
   "cell_type": "code",
   "execution_count": 4,
   "metadata": {},
   "outputs": [
    {
     "name": "stdout",
     "output_type": "stream",
     "text": [
      "Adani Enterprises Limited contributes to the energy sector through its significant investment in the green hydrogen business under Adani New Industries Limited. This initiative is part of a broader ESG philosophy embedded in the company's fundamental plans, focusing on sustainable and innovative energy solutions. The commitment to green hydrogen is highlighted by recognition received, such as the Aegis Graham Bell award for Innovation in Manufacturing, which underscores the company's efforts in advancing energy conservation and sustainable practices within the sector.\n"
     ]
    }
   ],
   "source": [
    "# Defining the query\n",
    "# query = \"can you list the breakdown of the capex?\"\n",
    "query = \"How does Adani Enterprises Limited contribute to the energy sector, specifically through Adani New Industries Limited?\"\n",
    "\n",
    "# invoking chain to get the response\n",
    "response = rag_chain_with_source.invoke(query)\n",
    "answer = response['answer']\n",
    "print(answer)"
   ]
  },
  {
   "cell_type": "markdown",
   "metadata": {},
   "source": [
    "## Hallucination\n",
    "\n",
    "`Hallucination` refers to instances where the model generates information that sounds plausible but is actually incorrect or made up. This happens because the model fills in gaps or patterns in its training data without verifying the facts. It's like confidently telling a story with details that aren't real.\n",
    "\n",
    "To check if a response from a language model (LLM) is reliable, we can use a method that involves generating multiple sample responses and comparing them to the original response. Here's how it works:\n",
    "\n",
    "1. **Generate Samples**: Use the same LLM that produced the original response to generate several additional sample responses to the same prompt.\n",
    "   \n",
    "2. **Consistency Check**: Compare the original response with each of these samples to see how consistent they are. This involves two main checks:\n",
    "   - **LLM-based Check**: Ask the LLM itself to assess the consistency between the original response and each sample. This is done in halves and the scores are averaged.\n",
    "   - **Semantic Similarity Check**: Measure how similar the meaning of each sentence in the original response is to the corresponding sentences in the samples. These scores are averaged as well.\n",
    "\n",
    "3. **Calculate Hallucination Score**: Combine the results of the LLM-based check and the semantic similarity check to get a final score. This score helps determine how much you can trust the original response.\n",
    "\n",
    "Credits: `Langkit` - The implemention defiend is taken from it and as per the library the approch is inspired from [SelfCheckGPT: Zero-Resource Black-Box Hallucination Detection for Generative Large Language Models](https://arxiv.org/abs/2303.08896)"
   ]
  },
  {
   "cell_type": "markdown",
   "metadata": {},
   "source": [
    "### Initializing the hallucination pipeline"
   ]
  },
  {
   "cell_type": "code",
   "execution_count": 5,
   "metadata": {},
   "outputs": [
    {
     "name": "stderr",
     "output_type": "stream",
     "text": [
      "[nltk_data] Downloading package punkt to\n",
      "[nltk_data]     C:\\Users\\HP\\AppData\\Roaming\\nltk_data...\n",
      "[nltk_data]   Package punkt is already up-to-date!\n"
     ]
    }
   ],
   "source": [
    "hc.init(rag_pipeline=rag_chain_with_source, num_samples=3)"
   ]
  },
  {
   "cell_type": "markdown",
   "metadata": {},
   "source": [
    "### Computing the hallucination Score"
   ]
  },
  {
   "cell_type": "code",
   "execution_count": 6,
   "metadata": {},
   "outputs": [
    {
     "name": "stdout",
     "output_type": "stream",
     "text": [
      "5.75%\n"
     ]
    }
   ],
   "source": [
    "hallucination_result = hc.consistency_check(prompt=query,response=answer)\n",
    "\n",
    "print(str(round(hallucination_result['final_score'] * 100, 2)) + '%')"
   ]
  },
  {
   "cell_type": "code",
   "execution_count": 7,
   "metadata": {},
   "outputs": [
    {
     "data": {
      "text/plain": [
       "{'llm_score': 0.0,\n",
       " 'semantic_score': 0.11503152052561438,\n",
       " 'final_score': 0.05751576026280719,\n",
       " 'samples': [\"Adani Enterprises Limited contributes to the energy sector through its significant investments in green hydrogen and related businesses under Adani New Industries Limited. This focus on sustainable energy solutions is part of the company's broader ESG philosophy, which emphasizes environmental responsibility and innovation in manufacturing, as evidenced by the recognition received, such as the Aegis Graham Bell award for Innovation in Manufacturing.\",\n",
       "  'Adani Enterprises Limited contributes to the energy sector through its significant investments in green hydrogen and similar businesses under Adani New Industries Limited. This focus on sustainable energy solutions is part of their broader ESG philosophy, which emphasizes environmentally responsible practices and innovation in manufacturing, as evidenced by their recognition with the Aegis Graham Bell award for their efforts in the green hydrogen ecosystem.',\n",
       "  \"Adani Enterprises Limited contributes to the energy sector through its significant investments in the green hydrogen business, particularly via Adani New Industries Limited. This initiative is part of a broader ESG philosophy embedded in the company's fundamental plans, highlighting a commitment to sustainable energy solutions. The focus on green hydrogen aligns with the company's efforts to innovate and lead in the energy sector, as evidenced by recognition received, such as the Aegis Graham Bell award for Innovation in Manufacturing.\"],\n",
       " 'response': \"Adani Enterprises Limited contributes to the energy sector through its significant investment in the green hydrogen business under Adani New Industries Limited. This initiative is part of a broader ESG philosophy embedded in the company's fundamental plans, focusing on sustainable and innovative energy solutions. The commitment to green hydrogen is highlighted by recognition received, such as the Aegis Graham Bell award for Innovation in Manufacturing, which underscores the company's efforts in advancing energy conservation and sustainable practices within the sector.\",\n",
       " 'prompt_response_pair': [{'prompt': \"Context: Adani Enterprises Limited contributes to the energy sector through its significant investments in green hydrogen and related businesses under Adani New Industries Limited. This focus on sustainable energy solutions is part of the company's broader ESG philosophy, which emphasizes environmental responsibility and innovation in manufacturing, as evidenced by the recognition received, such as the Aegis Graham Bell award for Innovation in Manufacturing.\\n\\nPassage: Adani Enterprises Limited contributes to the energy sector through its significant investment in the green hydrogen business under Adani New Industries Limited.This initiative is part of a broader ESG philosophy embedded in the company's fundamental plans, focusing on sustainable and innovative energy solutions.\\n\\nIs the passage supported by the context above?\\nAnswer between: Accurate, Minor Inaccurate, Major Inaccurate\\n\\nDon't include additional information/explanation. Please answer only with the options above.\\n\\nAnswer:\\n\",\n",
       "   'response': '\\nAccurate',\n",
       "   'score': 0.0},\n",
       "  {'prompt': \"Context: Adani Enterprises Limited contributes to the energy sector through its significant investments in green hydrogen and similar businesses under Adani New Industries Limited. This focus on sustainable energy solutions is part of their broader ESG philosophy, which emphasizes environmentally responsible practices and innovation in manufacturing, as evidenced by their recognition with the Aegis Graham Bell award for their efforts in the green hydrogen ecosystem.\\n\\nPassage: Adani Enterprises Limited contributes to the energy sector through its significant investment in the green hydrogen business under Adani New Industries Limited.This initiative is part of a broader ESG philosophy embedded in the company's fundamental plans, focusing on sustainable and innovative energy solutions.\\n\\nIs the passage supported by the context above?\\nAnswer between: Accurate, Minor Inaccurate, Major Inaccurate\\n\\nDon't include additional information/explanation. Please answer only with the options above.\\n\\nAnswer:\\n\",\n",
       "   'response': '\\nAccurate',\n",
       "   'score': 0.0},\n",
       "  {'prompt': \"Context: Adani Enterprises Limited contributes to the energy sector through its significant investments in the green hydrogen business, particularly via Adani New Industries Limited. This initiative is part of a broader ESG philosophy embedded in the company's fundamental plans, highlighting a commitment to sustainable energy solutions. The focus on green hydrogen aligns with the company's efforts to innovate and lead in the energy sector, as evidenced by recognition received, such as the Aegis Graham Bell award for Innovation in Manufacturing.\\n\\nPassage: Adani Enterprises Limited contributes to the energy sector through its significant investment in the green hydrogen business under Adani New Industries Limited.This initiative is part of a broader ESG philosophy embedded in the company's fundamental plans, focusing on sustainable and innovative energy solutions.\\n\\nIs the passage supported by the context above?\\nAnswer between: Accurate, Minor Inaccurate, Major Inaccurate\\n\\nDon't include additional information/explanation. Please answer only with the options above.\\n\\nAnswer:\\n\",\n",
       "   'response': 'Accurate',\n",
       "   'score': 0.0},\n",
       "  {'prompt': \"Context: Adani Enterprises Limited contributes to the energy sector through its significant investments in green hydrogen and related businesses under Adani New Industries Limited. This focus on sustainable energy solutions is part of the company's broader ESG philosophy, which emphasizes environmental responsibility and innovation in manufacturing, as evidenced by the recognition received, such as the Aegis Graham Bell award for Innovation in Manufacturing.\\n\\nPassage: The commitment to green hydrogen is highlighted by recognition received, such as the Aegis Graham Bell award for Innovation in Manufacturing, which underscores the company's efforts in advancing energy conservation and sustainable practices within the sector.\\n\\nIs the passage supported by the context above?\\nAnswer between: Accurate, Minor Inaccurate, Major Inaccurate\\n\\nDon't include additional information/explanation. Please answer only with the options above.\\n\\nAnswer:\\n\",\n",
       "   'response': '\\nAccurate',\n",
       "   'score': 0.0},\n",
       "  {'prompt': \"Context: Adani Enterprises Limited contributes to the energy sector through its significant investments in green hydrogen and similar businesses under Adani New Industries Limited. This focus on sustainable energy solutions is part of their broader ESG philosophy, which emphasizes environmentally responsible practices and innovation in manufacturing, as evidenced by their recognition with the Aegis Graham Bell award for their efforts in the green hydrogen ecosystem.\\n\\nPassage: The commitment to green hydrogen is highlighted by recognition received, such as the Aegis Graham Bell award for Innovation in Manufacturing, which underscores the company's efforts in advancing energy conservation and sustainable practices within the sector.\\n\\nIs the passage supported by the context above?\\nAnswer between: Accurate, Minor Inaccurate, Major Inaccurate\\n\\nDon't include additional information/explanation. Please answer only with the options above.\\n\\nAnswer:\\n\",\n",
       "   'response': '\\nAccurate',\n",
       "   'score': 0.0},\n",
       "  {'prompt': \"Context: Adani Enterprises Limited contributes to the energy sector through its significant investments in the green hydrogen business, particularly via Adani New Industries Limited. This initiative is part of a broader ESG philosophy embedded in the company's fundamental plans, highlighting a commitment to sustainable energy solutions. The focus on green hydrogen aligns with the company's efforts to innovate and lead in the energy sector, as evidenced by recognition received, such as the Aegis Graham Bell award for Innovation in Manufacturing.\\n\\nPassage: The commitment to green hydrogen is highlighted by recognition received, such as the Aegis Graham Bell award for Innovation in Manufacturing, which underscores the company's efforts in advancing energy conservation and sustainable practices within the sector.\\n\\nIs the passage supported by the context above?\\nAnswer between: Accurate, Minor Inaccurate, Major Inaccurate\\n\\nDon't include additional information/explanation. Please answer only with the options above.\\n\\nAnswer:\\n\",\n",
       "   'response': 'Accurate',\n",
       "   'score': 0.0}]}"
      ]
     },
     "execution_count": 7,
     "metadata": {},
     "output_type": "execute_result"
    }
   ],
   "source": [
    "hallucination_result"
   ]
  },
  {
   "cell_type": "markdown",
   "metadata": {},
   "source": [
    "### Prompt Sample"
   ]
  },
  {
   "cell_type": "code",
   "execution_count": 16,
   "metadata": {},
   "outputs": [
    {
     "name": "stdout",
     "output_type": "stream",
     "text": [
      "Context: Adani Enterprises Limited contributes to the energy sector through its significant investments in green hydrogen and related businesses under Adani New Industries Limited. This focus on sustainable energy solutions is part of the company's broader ESG philosophy, which emphasizes environmental responsibility and innovation in manufacturing, as evidenced by the recognition received, such as the Aegis Graham Bell award for Innovation in Manufacturing.\n",
      "\n",
      "Passage: Adani Enterprises Limited contributes to the energy sector through its significant investment in the green hydrogen business under Adani New Industries Limited.This initiative is part of a broader ESG philosophy embedded in the company's fundamental plans, focusing on sustainable and innovative energy solutions.\n",
      "\n",
      "Is the passage supported by the context above?\n",
      "Answer between: Accurate, Minor Inaccurate, Major Inaccurate\n",
      "\n",
      "Don't include additional information/explanation. Please answer only with the options above.\n",
      "\n",
      "Answer:\n",
      "\n"
     ]
    }
   ],
   "source": [
    "print(hallucination_result['prompt_response_pair'][0][\"prompt\"])"
   ]
  },
  {
   "cell_type": "code",
   "execution_count": 9,
   "metadata": {},
   "outputs": [
    {
     "name": "stdout",
     "output_type": "stream",
     "text": [
      "\n",
      "Accurate\n"
     ]
    }
   ],
   "source": [
    "print(hallucination_result['prompt_response_pair'][0][\"response\"])"
   ]
  },
  {
   "cell_type": "markdown",
   "metadata": {},
   "source": [
    "### Generated Samples"
   ]
  },
  {
   "cell_type": "code",
   "execution_count": 10,
   "metadata": {},
   "outputs": [
    {
     "name": "stdout",
     "output_type": "stream",
     "text": [
      "Adani Enterprises Limited contributes to the energy sector through its significant investments in green hydrogen and related businesses under Adani New Industries Limited. This focus on sustainable energy solutions is part of the company's broader ESG philosophy, which emphasizes environmental responsibility and innovation in manufacturing, as evidenced by the recognition received, such as the Aegis Graham Bell award for Innovation in Manufacturing.\n",
      "-------------\n",
      "Adani Enterprises Limited contributes to the energy sector through its significant investments in green hydrogen and similar businesses under Adani New Industries Limited. This focus on sustainable energy solutions is part of their broader ESG philosophy, which emphasizes environmentally responsible practices and innovation in manufacturing, as evidenced by their recognition with the Aegis Graham Bell award for their efforts in the green hydrogen ecosystem.\n",
      "-------------\n",
      "Adani Enterprises Limited contributes to the energy sector through its significant investments in the green hydrogen business, particularly via Adani New Industries Limited. This initiative is part of a broader ESG philosophy embedded in the company's fundamental plans, highlighting a commitment to sustainable energy solutions. The focus on green hydrogen aligns with the company's efforts to innovate and lead in the energy sector, as evidenced by recognition received, such as the Aegis Graham Bell award for Innovation in Manufacturing.\n",
      "-------------\n"
     ]
    }
   ],
   "source": [
    "for sample in hallucination_result['samples']:\n",
    "    print(sample)\n",
    "    print(\"-------------\")"
   ]
  },
  {
   "cell_type": "code",
   "execution_count": null,
   "metadata": {},
   "outputs": [],
   "source": []
  }
 ],
 "metadata": {
  "kernelspec": {
   "display_name": "Python 3 (ipykernel)",
   "language": "python",
   "name": "python3"
  },
  "language_info": {
   "codemirror_mode": {
    "name": "ipython",
    "version": 3
   },
   "file_extension": ".py",
   "mimetype": "text/x-python",
   "name": "python",
   "nbconvert_exporter": "python",
   "pygments_lexer": "ipython3",
   "version": "3.9.12"
  }
 },
 "nbformat": 4,
 "nbformat_minor": 2
}
